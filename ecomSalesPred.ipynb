{
 "cells": [
  {
   "cell_type": "markdown",
   "id": "8890fed1",
   "metadata": {},
   "source": [
    "### Test Data"
   ]
  },
  {
   "cell_type": "code",
   "execution_count": null,
   "id": "1e6acce6",
   "metadata": {},
   "outputs": [
    {
     "data": {
      "text/plain": [
       "'ecommerce_sales_data.csv'"
      ]
     },
     "execution_count": 1,
     "metadata": {},
     "output_type": "execute_result"
    }
   ],
   "source": [
    "import pandas as pd\n",
    "import numpy as np\n",
    "\n",
    "np.random.seed(42)\n",
    "\n",
    "n_samples = 100\n",
    "\n",
    "data = {\n",
    "    \"Product_ID\": [f\"P{100+i}\" for i in range(n_samples)],\n",
    "    \"Month\": np.random.choice([\n",
    "        \"Jan\", \"Feb\", \"Mar\", \"Apr\", \"May\", \"Jun\", \n",
    "        \"Jul\", \"Aug\", \"Sep\", \"Oct\", \"Nov\", \"Dec\"\n",
    "    ], size=n_samples),\n",
    "    \"Price\": np.random.randint(100, 1000, size=n_samples),\n",
    "    \"Discount_Percentage\": np.random.randint(0, 30, size=n_samples),\n",
    "    \"Ad_Spend\": np.random.randint(1000, 10000, size=n_samples),\n",
    "    \"Last_Month_Sales\": np.random.randint(50, 300, size=n_samples)\n",
    "}\n",
    "\n",
    "data[\"Units_Sold\"] = (\n",
    "    0.5 * data[\"Price\"] -\n",
    "    2.0 * data[\"Discount_Percentage\"] +\n",
    "    0.05 * data[\"Ad_Spend\"] +\n",
    "    0.8 * data[\"Last_Month_Sales\"] +\n",
    "    np.random.normal(0, 20, size=n_samples)  # noise\n",
    ").astype(int)\n",
    "\n",
    "df = pd.DataFrame(data)\n",
    "\n",
    "csv_path = \"ecommerce_sales_data.csv\"\n",
    "df.to_csv(csv_path, index=False)\n",
    "\n",
    "csv_path\n"
   ]
  },
  {
   "cell_type": "markdown",
   "id": "573c6e05",
   "metadata": {},
   "source": [
    "### Preprocess the data"
   ]
  },
  {
   "cell_type": "code",
   "execution_count": null,
   "id": "eae66805",
   "metadata": {},
   "outputs": [
    {
     "name": "stdout",
     "output_type": "stream",
     "text": [
      "   Price  Discount_Percentage  Ad_Spend  Last_Month_Sales  Month_Aug  \\\n",
      "0    956                   24      5736               153          0   \n",
      "1    938                   26      2802               210          0   \n",
      "2    620                   29      9155               186          0   \n",
      "3    443                   24      9120                92          1   \n",
      "4    228                   19      7616               295          0   \n",
      "\n",
      "   Month_Dec  Month_Feb  Month_Jan  Month_Jul  Month_Jun  Month_Mar  \\\n",
      "0          0          0          0          1          0          0   \n",
      "1          0          0          0          0          0          0   \n",
      "2          0          0          0          0          0          0   \n",
      "3          0          0          0          0          0          0   \n",
      "4          0          0          0          0          0          0   \n",
      "\n",
      "   Month_May  Month_Nov  Month_Oct  Month_Sep  \n",
      "0          0          0          0          0  \n",
      "1          0          0          0          0  \n",
      "2          0          1          0          0  \n",
      "3          0          0          0          0  \n",
      "4          1          0          0          0  \n",
      "\n",
      "Target variable:\n",
      "0    815\n",
      "1    718\n",
      "2    849\n",
      "3    690\n",
      "4    728\n",
      "Name: Units_Sold, dtype: int64\n"
     ]
    }
   ],
   "source": [
    "import pandas as pd\n",
    "\n",
    "df = pd.read_csv(\"ecommerce_sales_data.csv\")\n",
    "\n",
    "df = pd.get_dummies(df, columns=[\"Month\"], drop_first=True)\n",
    "\n",
    "X = df.drop(columns=[\"Product_ID\", \"Units_Sold\"]) \n",
    "y = df[\"Units_Sold\"]\n",
    "\n",
    "print(X.head())\n",
    "print(\"\\nTarget variable:\")\n",
    "print(y.head())\n"
   ]
  },
  {
   "cell_type": "markdown",
   "id": "a93cd32b",
   "metadata": {},
   "source": [
    "### Train the model"
   ]
  },
  {
   "cell_type": "code",
   "execution_count": null,
   "id": "175ec514",
   "metadata": {},
   "outputs": [
    {
     "name": "stdout",
     "output_type": "stream",
     "text": [
      "R² Score: 0.9789487584201381\n",
      "Mean Absolute Error: 20.712793481200215\n",
      "Predicted Units Sold (manual input): 322\n"
     ]
    },
    {
     "name": "stderr",
     "output_type": "stream",
     "text": [
      "c:\\python3.11\\Lib\\site-packages\\sklearn\\base.py:450: UserWarning: X does not have valid feature names, but LinearRegression was fitted with feature names\n",
      "  warnings.warn(\n"
     ]
    }
   ],
   "source": [
    "from sklearn.model_selection import train_test_split\n",
    "from sklearn.linear_model import LinearRegression\n",
    "from sklearn.metrics import mean_absolute_error, r2_score\n",
    "\n",
    "X_train, X_test, y_train, y_test = train_test_split(X, y, test_size=0.2, random_state=42)\n",
    "\n",
    "# Train the model\n",
    "model = LinearRegression()\n",
    "model.fit(X_train, y_train)\n",
    "\n",
    "# Predict\n",
    "y_pred = model.predict(X_test)\n",
    "\n",
    "# Evaluate\n",
    "r2 = r2_score(y_test, y_pred)\n",
    "mae = mean_absolute_error(y_test, y_pred)\n",
    "\n",
    "print(\"R² Score:\", r2)\n",
    "print(\"Mean Absolute Error:\", mae)\n",
    "\n",
    "manual_input = [\n",
    "    400,     # Price\n",
    "    20,      # Discount_Percentage\n",
    "    2000,    # Ad_Spend\n",
    "    90,      # Last_Month_Sales\n",
    "    0,  # Month_Apr\n",
    "    1,  # Month_Feb\n",
    "    0,  # Month_Jan\n",
    "    0,  # Month_Jul\n",
    "    0,  # Month_Jun\n",
    "    0,  # Month_Mar\n",
    "    0,  # Month_May\n",
    "    0,  # Month_Nov\n",
    "    0,  # Month_Oct\n",
    "    0,  # Month_Sep\n",
    "    0   # Month_Dec\n",
    "]\n",
    "predicted_units_simple = int(model.predict([manual_input])[0])\n",
    "print(\"Predicted Units Sold (manual input):\", predicted_units_simple)\n",
    "\n"
   ]
  }
 ],
 "metadata": {
  "kernelspec": {
   "display_name": "Python 3",
   "language": "python",
   "name": "python3"
  },
  "language_info": {
   "codemirror_mode": {
    "name": "ipython",
    "version": 3
   },
   "file_extension": ".py",
   "mimetype": "text/x-python",
   "name": "python",
   "nbconvert_exporter": "python",
   "pygments_lexer": "ipython3",
   "version": "3.11.0"
  }
 },
 "nbformat": 4,
 "nbformat_minor": 5
}
